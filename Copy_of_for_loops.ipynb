{
  "nbformat": 4,
  "nbformat_minor": 0,
  "metadata": {
    "colab": {
      "provenance": []
    },
    "kernelspec": {
      "name": "python3",
      "display_name": "Python 3"
    },
    "language_info": {
      "name": "python"
    }
  },
  "cells": [
    {
      "cell_type": "markdown",
      "source": [
        "### **Introduction to `for` Loops**\n",
        "\n",
        "In programming, a `for` loop provides a clean and concise way to iterate over a sequence of items. It's one of the most commonly used loops due to its simplicity and versatility in handling structured data types.\n",
        "\n",
        "---\n",
        "\n",
        "### **Iterating Over Ranges**\n",
        "\n",
        "The `range()` function generates a sequence of numbers, which can be used in a `for` loop to repeat an action a specific number of times.\n",
        "\n",
        "**Basic Syntax:**\n",
        "```python\n",
        "for variable in range(start, stop, step):\n",
        "    # body of the loop\n",
        "```\n",
        "\n",
        "- `start`: The beginning value (optional, default is 0).\n",
        "- `stop`: The end value (exclusive).\n",
        "- `step`: The increment/decrement value (optional, default is 1).\n",
        "\n",
        "**Example 1:** Counting from 0 to 4\n",
        "```python\n",
        "for i in range(5):\n",
        "    print(i)\n",
        "```\n",
        "\n",
        "**Example 2:** Counting from 2 to 8 in steps of 2\n",
        "```python\n",
        "for i in range(2, 9, 2):\n",
        "    print(i)\n",
        "```\n",
        "\n",
        "---\n",
        "\n",
        "### **Iterating Over Lists**\n",
        "\n",
        "A `for` loop can directly iterate over items in a list without needing to reference indices.\n",
        "\n",
        "**Basic Syntax:**\n",
        "```python\n",
        "for item in list_name:\n",
        "    # body of the loop\n",
        "```\n",
        "\n",
        "**Example:** Printing all items in a list\n",
        "```python\n",
        "fruits = [\"apple\", \"banana\", \"cherry\"]\n",
        "for fruit in fruits:\n",
        "    print(fruit)\n",
        "```\n",
        "\n",
        "**Note:** The `for` loop can also iterate over other iterable data types like tuples, sets, strings, and dictionaries.\n",
        "\n",
        "---\n",
        "\n"
      ],
      "metadata": {
        "id": "jPs46T6tIdCB"
      }
    },
    {
      "cell_type": "code",
      "source": [
        "#You can play around with the examples in this cell\n",
        "word = \"word\"\n",
        "print(word[1])"
      ],
      "metadata": {
        "id": "vTqc3r88JzoK",
        "outputId": "3e4a9030-c6ad-42e0-f056-89b53ddb0f25",
        "colab": {
          "base_uri": "https://localhost:8080/"
        }
      },
      "execution_count": null,
      "outputs": [
        {
          "output_type": "stream",
          "name": "stdout",
          "text": [
            "o\n"
          ]
        }
      ]
    },
    {
      "cell_type": "markdown",
      "source": [
        "\n",
        "### **Practice Exercises:**\n",
        "\n",
        "1. **Number Doubler:** For numbers 1 through 10, print each number doubled.\n",
        "\n"
      ],
      "metadata": {
        "id": "5X8znl34J3A2"
      }
    },
    {
      "cell_type": "code",
      "source": [
        "#Ex1\n",
        "for i in range(1, 11, 1):\n",
        "  print(i*2)"
      ],
      "metadata": {
        "id": "UwcBDItUJsyv",
        "outputId": "13b5c3a7-1f21-4805-aeea-289c3af36b3b",
        "colab": {
          "base_uri": "https://localhost:8080/"
        }
      },
      "execution_count": null,
      "outputs": [
        {
          "output_type": "stream",
          "name": "stdout",
          "text": [
            "2\n",
            "4\n",
            "6\n",
            "8\n",
            "10\n",
            "12\n",
            "14\n",
            "16\n",
            "18\n",
            "20\n"
          ]
        }
      ]
    },
    {
      "cell_type": "markdown",
      "source": [
        "2. **Vowel Finder:** Given a word, iterate over it and print only the vowels.\n"
      ],
      "metadata": {
        "id": "an5RrtO3J617"
      }
    },
    {
      "cell_type": "code",
      "source": [
        "#Ex2\n",
        "word = str(input(\"Give me a word \"))\n",
        "length = int(len(word))\n",
        "vowel = [\"a\", \"e\", \"i\", \"o\", \"u\"]\n",
        "for i in range(length):\n",
        "  if word[i] in vowel:\n",
        "    print(word[i])"
      ],
      "metadata": {
        "id": "LefNxEbXJ8Zw",
        "colab": {
          "base_uri": "https://localhost:8080/"
        },
        "outputId": "6464b46b-fcd2-4e45-cee0-d9fbbe35336c"
      },
      "execution_count": null,
      "outputs": [
        {
          "output_type": "stream",
          "name": "stdout",
          "text": [
            "Give me a word pinapple\n",
            "i\n",
            "a\n",
            "e\n"
          ]
        }
      ]
    },
    {
      "cell_type": "markdown",
      "source": [
        "3. **List Reverser:** Without using built-in functions, reverse the items in a list.\n"
      ],
      "metadata": {
        "id": "SWs102V4J9u-"
      }
    },
    {
      "cell_type": "code",
      "source": [
        "#Ex3\n",
        "list1 = [\"apple\", \"banana\", \"lol\"]\n",
        "length = int(len(list1))\n",
        "for i in range(length-1, -1, -1):\n",
        "  print(list1[i])"
      ],
      "metadata": {
        "id": "ev_24-pQJ_eN",
        "colab": {
          "base_uri": "https://localhost:8080/"
        },
        "outputId": "23b52d1f-d068-4ba4-d891-1b9dc2ee465c"
      },
      "execution_count": null,
      "outputs": [
        {
          "output_type": "stream",
          "name": "stdout",
          "text": [
            "3\n",
            "lol\n",
            "banana\n",
            "apple\n"
          ]
        }
      ]
    },
    {
      "cell_type": "markdown",
      "source": [
        "4. **Odd Number Counter:** Given a list of numbers, count how many odd numbers there are.\n"
      ],
      "metadata": {
        "id": "nzzOUhNiKAqP"
      }
    },
    {
      "cell_type": "code",
      "source": [
        "#Ex4\n",
        "listnum = [1,2,3,4,5,6,7,8,9]\n",
        "length = len(listnum)\n",
        "count= 0\n",
        "for i in range(0,length,1):\n",
        "  new_num = listnum[i]/2\n",
        "  if round(new_num,0) != new_num:\n",
        "    count += 1\n",
        "print(count, \"odd numbers\")"
      ],
      "metadata": {
        "id": "VMYhMku7KB8S",
        "colab": {
          "base_uri": "https://localhost:8080/"
        },
        "outputId": "a2aa4422-9214-4fc6-cae2-e2a43a705586"
      },
      "execution_count": 9,
      "outputs": [
        {
          "output_type": "stream",
          "name": "stdout",
          "text": [
            "5 odd numbers\n"
          ]
        }
      ]
    },
    {
      "cell_type": "markdown",
      "source": [
        "5. **Grade Assigner:** For a list of scores, assign and print grades (e.g., A, B, C).\n"
      ],
      "metadata": {
        "id": "lMx0qR57KDI4"
      }
    },
    {
      "cell_type": "code",
      "source": [
        "#Ex5\n",
        "listscore = [95,42,75,85,55]\n",
        "length = len(listscore)\n",
        "for i in range(0,length,1):\n",
        "  if listscore[i] >=90:\n",
        "    print(\"student\", i+1, \"has an A\")\n",
        "  elif listscore[i] >= 80 and listscore[i] <90:\n",
        "    print(\"student\", i+1, \"has a B\")\n",
        "  elif listscore[i] >=70 and listscore[i] <80:\n",
        "    print(\"student\", i+1, \"has a C\")\n",
        "  elif listscore[i] >=60 and listscore[i] <70:\n",
        "    print(\"student\", i+1, \"has a D\")\n",
        "  else:\n",
        "    print(\"student\", i+1, \"has failed\")"
      ],
      "metadata": {
        "id": "9UhJ6-F6KFDN",
        "colab": {
          "base_uri": "https://localhost:8080/"
        },
        "outputId": "a64b412a-2c6b-4801-e515-d994e9e4b8c8"
      },
      "execution_count": 16,
      "outputs": [
        {
          "output_type": "stream",
          "name": "stdout",
          "text": [
            "student 1 has an A\n",
            "student 2 has failed\n",
            "student 3 has a C\n",
            "student 4 has a B\n",
            "student 5 has failed\n"
          ]
        }
      ]
    },
    {
      "cell_type": "markdown",
      "source": [
        "6. **Word Lengths:** For a list of words, print each word alongside its length.\n"
      ],
      "metadata": {
        "id": "a-5VcK9GKGMi"
      }
    },
    {
      "cell_type": "code",
      "source": [
        "#Ex6\n",
        "listword = [\"hello\", \"apple\", \"banana\"]\n",
        "length = len(listword)\n",
        "for i in range(0, length, 1):\n",
        "  print(listword[i], len(listword[i]))"
      ],
      "metadata": {
        "id": "WJ2YmGMZKT68",
        "colab": {
          "base_uri": "https://localhost:8080/"
        },
        "outputId": "adf9bb3d-82b1-4f96-fee4-b5a4065d70dc"
      },
      "execution_count": 17,
      "outputs": [
        {
          "output_type": "stream",
          "name": "stdout",
          "text": [
            "hello 5\n",
            "apple 5\n",
            "banana 6\n"
          ]
        }
      ]
    },
    {
      "cell_type": "markdown",
      "source": [
        "7. **Positive Number Finder:** Given a list of numbers, print only the positive ones.\n"
      ],
      "metadata": {
        "id": "G7NqPlM_KflV"
      }
    },
    {
      "cell_type": "code",
      "source": [
        "#Ex7\n",
        "listnum = [-1,2,7,-12,6,17]\n",
        "length = len(listnum)\n",
        "for i in range(0, length,1):\n",
        "  if listnum[i] >= 0:\n",
        "    print(listnum[i])"
      ],
      "metadata": {
        "id": "W2_2S2xBKgsY",
        "colab": {
          "base_uri": "https://localhost:8080/"
        },
        "outputId": "9f0b0149-6533-41ea-b9f4-071ca48fe671"
      },
      "execution_count": 18,
      "outputs": [
        {
          "output_type": "stream",
          "name": "stdout",
          "text": [
            "2\n",
            "7\n",
            "6\n",
            "17\n"
          ]
        }
      ]
    },
    {
      "cell_type": "markdown",
      "source": [
        "8. **Temperature Converter:** Convert a list of temperatures from Celsius to Fahrenheit and print them.\n"
      ],
      "metadata": {
        "id": "Am8UDtkgKhwu"
      }
    },
    {
      "cell_type": "code",
      "source": [
        "#Ex8\n",
        "listtemp = [22, 23, 10, 35, 42]\n",
        "length = len(listtemp)\n",
        "for i in range(0, length,1):\n",
        "  c = listtemp[i]\n",
        "  f = (c/(5/9))+32\n",
        "  print(i+1,f)"
      ],
      "metadata": {
        "id": "nXjgFlTeKi3h",
        "colab": {
          "base_uri": "https://localhost:8080/"
        },
        "outputId": "0d755dd8-1275-464a-f92c-da501a68412a"
      },
      "execution_count": 20,
      "outputs": [
        {
          "output_type": "stream",
          "name": "stdout",
          "text": [
            "1 71.6\n",
            "2 73.4\n",
            "3 50.0\n",
            "4 95.0\n",
            "5 107.6\n"
          ]
        }
      ]
    },
    {
      "cell_type": "markdown",
      "source": [
        "9. **Name Initials:** For a list of full names, print the initials of each name.\n"
      ],
      "metadata": {
        "id": "MhodCC6HKkLh"
      }
    },
    {
      "cell_type": "code",
      "source": [
        "#Ex9\n",
        "listname = [\"erwyn murphy\", \"bob dylan\", \"paul mccartney\", \"john lennon\", \"ringo starr\", \"george harrison\"]\n",
        "length = len(listname)\n",
        "capital = [\"A\", \"B\", \"C\", \"D\", \"E\", \"F\", \"G\", \"H\", \"I\", \"J\", \"K\", \"L\", \"M\", \"N\", \"O\", \"P\", \"Q\", \"R\", \"S\", \"T\", \"U\", \"V\", \"X\", \"Y\", \"Z\"]\n",
        "for i in range(0,length,1):\n",
        "  length_word = len(listname[i])\n",
        "  word = listname[i].title()\n",
        "  for a in range (0,length_word,1):\n",
        "    if word[a] in capital:\n",
        "      print(word[a]+ \".\")\n",
        "\n"
      ],
      "metadata": {
        "id": "HQ5_rY3-Klnc",
        "colab": {
          "base_uri": "https://localhost:8080/"
        },
        "outputId": "16e21f65-9c7f-4d27-dc1c-9825e0241412"
      },
      "execution_count": 29,
      "outputs": [
        {
          "output_type": "stream",
          "name": "stdout",
          "text": [
            "E.\n",
            "M.\n",
            "B.\n",
            "D.\n",
            "P.\n",
            "M.\n",
            "J.\n",
            "L.\n",
            "R.\n",
            "S.\n",
            "G.\n",
            "H.\n"
          ]
        }
      ]
    },
    {
      "cell_type": "markdown",
      "source": [
        "10. **Range Sum:** Calculate the sum of numbers from 1 to 100 using a `for` loop."
      ],
      "metadata": {
        "id": "Sbmpt_V3Kpd_"
      }
    },
    {
      "cell_type": "code",
      "source": [
        "#Ex10\n",
        "count=0\n",
        "for i in range(0,101,1):\n",
        "  count += i\n",
        "print(count)"
      ],
      "metadata": {
        "id": "EQ1De9pKKrrz",
        "colab": {
          "base_uri": "https://localhost:8080/"
        },
        "outputId": "48b0a99c-2091-4890-a8de-8688621f3233"
      },
      "execution_count": 22,
      "outputs": [
        {
          "output_type": "stream",
          "name": "stdout",
          "text": [
            "5050\n"
          ]
        }
      ]
    }
  ]
}