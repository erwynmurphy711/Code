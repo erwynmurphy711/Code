{
  "nbformat": 4,
  "nbformat_minor": 0,
  "metadata": {
    "colab": {
      "provenance": []
    },
    "kernelspec": {
      "name": "python3",
      "display_name": "Python 3"
    },
    "language_info": {
      "name": "python"
    }
  },
  "cells": [
    {
      "cell_type": "markdown",
      "source": [
        "---\n",
        "\n",
        "### **Type Conversion & User Input**\n",
        "\n",
        "---\n",
        "\n",
        "**I. Introduction to Type Conversion**\n",
        "\n",
        "- **Concept of Data Types and Compatibility:**\n",
        "    - Sometimes, different data types can't directly interact or work together.\n",
        "    - For instance, you can't directly add a text representation of a number (string) to an actual number (integer or float).\n",
        "\n",
        "- **Implicit vs. Explicit Type Conversion:**\n",
        "    - **Implicit:** Done automatically by the compiler/interpreter.\n",
        "    - **Explicit:** Done intentionally by the programmer.\n",
        "\n",
        "---\n",
        "\n",
        "**II. Implicit Type Conversion**\n",
        "\n",
        "- **Definition:**\n",
        "    - When the Python interpreter automatically changes one data type to another without the programmer's intervention.\n",
        "\n",
        "- **Examples:**\n",
        "    - Combining an integer with a float results in a float.\n",
        "    ```python\n",
        "    result = 3 + 4.5  # result is 7.5, a float\n",
        "    ```\n",
        "    - Combining an integer with a string can lead to errors.\n",
        "    \n",
        "- **Potential Pitfalls:**\n",
        "    - **Loss of Data:** Converting from float to integer discards the decimal part.\n",
        "    - **Unexpected Results:** Implicit conversion might not always yield the expected outcome.\n",
        "    - **Type Errors:** Some implicit conversions aren't allowed and can cause errors.\n",
        "\n",
        "---\n",
        "\n",
        "**III. Explicit Type Conversion**\n",
        "\n",
        "- **Definition:**\n",
        "    - When the programmer intentionally converts one data type to another using built-in functions.\n",
        "\n",
        "- **Conversion Functions:**\n",
        "    - `int()`: Converts a value to an integer.\n",
        "    - `float()`: Converts a value to a floating-point number.\n",
        "    - `str()`: Converts a value to a string.\n",
        "\n",
        "- **Demonstrations:**\n",
        "    - Convert a float to an integer:\n",
        "    ```python\n",
        "    integer_value = int(7.8)  # Result is 7\n",
        "    ```\n",
        "    - Convert an integer to a string:\n",
        "    ```python\n",
        "    string_value = str(25)  # Result is \"25\"\n",
        "    ```\n",
        "\n",
        "---\n",
        "\n",
        "**IV. Input from Users using the `input()` function**\n",
        "\n",
        "- **Introduction to `input()`:**\n",
        "    - A built-in Python function to take user input from the console.\n",
        "    \n",
        "- **Characteristics of `input()`:**\n",
        "    - The data obtained using `input()` is always a string. To use it as other data types, you need to convert it explicitly.\n",
        "\n",
        "---\n"
      ],
      "metadata": {
        "id": "CUpoFbofG8dq"
      }
    },
    {
      "cell_type": "markdown",
      "source": [
        "**1. Word Repetition Game**\n",
        "- Ask the user for a word and a number.\n",
        "- Convert the number to an integer and repeat the word that many times.\n",
        "- Example:\n",
        "    - Input: Word: \"Hello\", Number: \"3\"\n",
        "    - Output: \"HelloHelloHello\"\n",
        "\n",
        "---"
      ],
      "metadata": {
        "id": "wxkjUHtsH2hr"
      }
    },
    {
      "cell_type": "code",
      "source": [
        "#Ex1\n",
        "\n",
        "word = str(input())\n",
        "number = int(input())\n",
        "print(word*number)\n",
        "\n"
      ],
      "metadata": {
        "id": "hUtSMYsVH-eY",
        "outputId": "48270652-44d3-41b4-d6cb-f27baacf8eb4",
        "colab": {
          "base_uri": "https://localhost:8080/"
        }
      },
      "execution_count": 1,
      "outputs": [
        {
          "output_type": "stream",
          "name": "stdout",
          "text": [
            "hello\n",
            "3\n",
            "hellohellohello\n"
          ]
        }
      ]
    },
    {
      "cell_type": "markdown",
      "source": [
        "**2. Money Calculator**\n",
        "- Prompt the user for the number of coins they have (like pennies, nickels, dimes, and quarters).\n",
        "- Convert the input to integers.\n",
        "- Calculate the total amount in dollars and cents.\n",
        "\n",
        "---"
      ],
      "metadata": {
        "id": "eUlwvePkH_-D"
      }
    },
    {
      "cell_type": "code",
      "source": [
        "#Ex2\n",
        "print(\"Number of 1 nt\")\n",
        "\n",
        "\n",
        "\n",
        "one_nt = int(input())\n",
        "print(\"Number of 5 nt\")\n",
        "five_nt = int(input())\n",
        "print(\"Number of 10 nt\")\n",
        "ten_nt = int(input())\n",
        "print(\"Number of 50 nt\")\n",
        "fifty_nt = int(input())\n",
        "total_money = one_nt+(five_nt*5)+(ten_nt*10)+(fifty_nt*50)\n",
        "print(\"In total you have \", total_money, \" dollars\")\n",
        "\n",
        "\n"
      ],
      "metadata": {
        "id": "A43ujndhIGo_",
        "outputId": "6da91839-8bb7-4811-82f6-e5e3269110d9",
        "colab": {
          "base_uri": "https://localhost:8080/"
        }
      },
      "execution_count": 4,
      "outputs": [
        {
          "output_type": "stream",
          "name": "stdout",
          "text": [
            "Number of 1 nt\n",
            "5\n",
            "Number of 5 nt\n",
            "1\n",
            "Number of 10 nt\n",
            "1\n",
            "Number of 50 nt\n",
            "1\n",
            "In total you have  70  dollars\n"
          ]
        }
      ]
    },
    {
      "cell_type": "markdown",
      "source": [
        "**3. Movie Time**\n",
        "- Ask the user how long a movie is in minutes (e.g., \"120\").\n",
        "- Convert this to hours and minutes and display it.\n",
        "- Example:\n",
        "    - Input: \"140\"\n",
        "    - Output: \"The movie is 2 hours and 20 minutes long.\"\n",
        "\n",
        "---"
      ],
      "metadata": {
        "id": "1cSXQp50ILlb"
      }
    },
    {
      "cell_type": "code",
      "source": [
        "#Ex3\n",
        "print(\"How long was the movie?\")\n",
        "movie_length = int(input())\n",
        "output = float(movie_length/60)\n",
        "minutes = (output-int(output))*60\n",
        "print(\"The movie was \", int(output), \" hours and \", round(minutes), \" minutes long\")\n",
        "\n"
      ],
      "metadata": {
        "id": "6GCnZ9g7IQnZ",
        "outputId": "ec96786d-0976-4736-c75f-419bdcee7804",
        "colab": {
          "base_uri": "https://localhost:8080/"
        }
      },
      "execution_count": 9,
      "outputs": [
        {
          "output_type": "stream",
          "name": "stdout",
          "text": [
            "How long was the movie?\n",
            "500\n",
            "The movie was  8  hours and  20  minutes long\n"
          ]
        }
      ]
    },
    {
      "cell_type": "markdown",
      "source": [
        "**4. Age in Days**\n",
        "- Have the user input their age in years.\n",
        "- Convert the age to days (ignoring leap years) and display the result.\n",
        "- Example:\n",
        "    - Input: \"25\"\n",
        "    - Output: \"You are approximately 9125 days old.\"\n",
        "\n",
        "---\n"
      ],
      "metadata": {
        "id": "DJD0fXVUISLH"
      }
    },
    {
      "cell_type": "code",
      "source": [
        "import math\n",
        "age = int(input())\n",
        "print(\"You are approximately \", age*365, \" days old\")\n",
        "math.ceil(age)"
      ],
      "metadata": {
        "id": "L3TeR-x-IXj_",
        "outputId": "7763fbd1-97af-465c-8fc0-285437bcbcfa",
        "colab": {
          "base_uri": "https://localhost:8080/"
        }
      },
      "execution_count": 15,
      "outputs": [
        {
          "output_type": "stream",
          "name": "stdout",
          "text": [
            "25\n",
            "You are approximately  9125  days old\n"
          ]
        },
        {
          "output_type": "execute_result",
          "data": {
            "text/plain": [
              "25"
            ]
          },
          "metadata": {},
          "execution_count": 15
        }
      ]
    },
    {
      "cell_type": "markdown",
      "source": [
        "**5. String Calculator**\n",
        "- Ask the user for two numbers but as strings (e.g., \"12\" and \"15\").\n",
        "- Convert these strings to integers and perform basic arithmetic operations on them (addition, subtraction, multiplication).\n",
        "\n",
        "---"
      ],
      "metadata": {
        "id": "sEcfkwlfIZJv"
      }
    },
    {
      "cell_type": "code",
      "source": [
        "#Ex5\n",
        "print(\"Give me two numbers of your liking\")\n",
        "number_one = str(input())\n",
        "number_two = str(input())\n",
        "print(\"The numbers added together is equal to \", round(float(number_one)+float(number_two)))"
      ],
      "metadata": {
        "id": "kjKUS4-gIdrC",
        "outputId": "06612dd2-955d-4436-dda9-01430ad23ef9",
        "colab": {
          "base_uri": "https://localhost:8080/"
        }
      },
      "execution_count": 21,
      "outputs": [
        {
          "output_type": "stream",
          "name": "stdout",
          "text": [
            "Give me two numbers of your liking\n",
            "45\n",
            "6\n",
            "The numbers added together is equal to  51\n"
          ]
        }
      ]
    },
    {
      "cell_type": "markdown",
      "source": [
        "**6. Weight Converter**\n",
        "- Prompt the user for their weight in pounds.\n",
        "- Convert the weight to kilograms (using the conversion 1 pound = 0.453592 kilograms) and display the result.\n",
        "\n",
        "---"
      ],
      "metadata": {
        "id": "XU-uz7_gIfar"
      }
    },
    {
      "cell_type": "code",
      "source": [
        "#Ex6\n",
        "print(\"What is your weight in pounds?\")\n",
        "pounds = float(input())\n",
        "print(\"Your weight in kilograms is \", round(pounds*0.453592,1), \" kg\")"
      ],
      "metadata": {
        "id": "uM2885UFIi4-",
        "outputId": "52496928-be09-4d19-a500-2c9225089b4b",
        "colab": {
          "base_uri": "https://localhost:8080/"
        }
      },
      "execution_count": 23,
      "outputs": [
        {
          "output_type": "stream",
          "name": "stdout",
          "text": [
            "What is your weight in pounds?\n",
            "200\n",
            "Your weight in kilograms is  90.7  kg\n"
          ]
        }
      ]
    },
    {
      "cell_type": "markdown",
      "source": [
        "**7. Temperature Alert**\n",
        "- Ask the user for the temperature in Fahrenheit.\n",
        "- Convert it to Celsius.\n",
        "- If the temperature in Celsius is below 0, print an alert that it's freezing!\n",
        "\n",
        "---"
      ],
      "metadata": {
        "id": "Vqf3KRegIkwG"
      }
    },
    {
      "cell_type": "code",
      "source": [
        "#Ex7\n",
        "print(\"What is the temperature right now in Fahrenheit?\")\n",
        "f = float(input())\n",
        "c = (f-32)*(5/9)\n",
        "print(\"The temperture in Celsius is \", round(c,1), \" degrees\")\n",
        "if c<0:\n",
        "  print(\"Its freezing!!\")"
      ],
      "metadata": {
        "id": "Bvn01u27InZD",
        "outputId": "6cec961d-aa8a-4ad9-e151-3c9529f80fbf",
        "colab": {
          "base_uri": "https://localhost:8080/"
        }
      },
      "execution_count": 26,
      "outputs": [
        {
          "output_type": "stream",
          "name": "stdout",
          "text": [
            "What is the temperature right now in Fahrenheit?\n",
            "31\n",
            "The temperture in Celsius is  -0.6  degrees\n",
            "Its freezing!!\n"
          ]
        }
      ]
    },
    {
      "cell_type": "markdown",
      "source": [
        "**8. User Feedback Rating**\n",
        "- Ask the user to rate a product on a scale of 1-10, but they should input it as a word (e.g., \"seven\").\n",
        "- Convert the word to its corresponding number. (This requires a bit more logic, using a dictionary or if-else statements.)\n",
        "- Display a message based on the number (e.g., for ratings 8-10, display \"Thank you! We're glad you loved it!\").\n",
        "\n",
        "---"
      ],
      "metadata": {
        "id": "HtgxB-B0IpTW"
      }
    },
    {
      "cell_type": "code",
      "source": [
        "#Ex8\n",
        "print(\"Rate the product on a scale from 1-10 (But answer as a word Ex: seven)\")\n",
        "number = str(input())\n",
        "if number == \"one\":\n",
        "  number = 1\n",
        "if number == \"two\":\n",
        "  number = 2\n",
        "if number == \"three\":\n",
        "  number = 3\n",
        "if number == \"four\":\n",
        "  number = 4\n",
        "if number == \"five\":\n",
        "  number = 5\n",
        "if number == \"six\":\n",
        "  number = 6\n",
        "if number == \"seven\":\n",
        "  number = 7\n",
        "if number == \"eight\":\n",
        "  number = 8\n",
        "if number == \"nine\":\n",
        "  number = 9\n",
        "if number == \"ten\":\n",
        "  number = 10\n",
        "print(\"You have rated us a \", number)\n",
        "if number<=3:\n",
        "  print(\"Shut up mate\")\n",
        "if number>3 and number<=7:\n",
        "  print(\"thank you for your support\")\n",
        "if number>=8:\n",
        "  print(\"Thank you! We're glad you loved it!\")\n",
        "\n",
        "#Congrats on maxing it this far! You rock!!!"
      ],
      "metadata": {
        "id": "_THFynUpIqTw",
        "outputId": "28d3976b-b7f7-4dec-ffcc-379821a6edc6",
        "colab": {
          "base_uri": "https://localhost:8080/"
        }
      },
      "execution_count": 39,
      "outputs": [
        {
          "output_type": "stream",
          "name": "stdout",
          "text": [
            "Rate the product on a scale from 1-10 (But answer as a word Ex: seven)\n",
            "nine\n",
            "You have rated us a  9\n",
            "Thank you! We're glad you loved it!\n"
          ]
        }
      ]
    },
    {
      "cell_type": "markdown",
      "source": [
        "In Python, both the comma (`,`) and the plus (`+`) sign can be used with the `print` function, but they serve different purposes and have different behaviors. Here are the main differences:\n",
        "\n",
        "1. **Type Compatibility**:\n",
        "   - **Comma (`,`)**: You can use the comma to concatenate items of different types without explicitly converting them. The `print` function will internally convert the arguments to strings.\n",
        "   - **Plus (`+`)**: When using the plus sign, the items being concatenated must be of the same type. If you're trying to concatenate a string with a number, for instance, you'll need to explicitly convert the number to a string using `str()`.\n",
        "\n",
        "2. **Output Spacing**:\n",
        "   - **Comma (`,`)**: When using a comma, the `print` function will insert a space between the items.\n",
        "   - **Plus (`+`)**: The plus sign will concatenate the items directly without any space in between.\n",
        "\n",
        "3. **Flexibility**:\n",
        "   - **Comma (`,`)**: You can print multiple items of different types easily, and also include additional parameters like `end` and `sep`.\n",
        "   - **Plus (`+`)**: It's primarily for string concatenation, and you'd have to manage type conversions yourself.\n",
        "\n",
        "Here's a demonstration of the differences:\n",
        "\n",
        "```python\n",
        "x = 5\n",
        "y = \"Hello\"\n",
        "\n",
        "# Using comma\n",
        "print(y, x)\n",
        "\n",
        "# Using plus (requires explicit type conversion for non-string types)\n",
        "print(y + \" \" + str(x))\n",
        "```\n",
        "\n",
        "The output for the above code would be:\n",
        "\n",
        "```\n",
        "Hello 5\n",
        "Hello 5\n",
        "```\n",
        "\n",
        "Let's run a demonstration to see the differences in action.\n",
        "\n",
        "As demonstrated:\n",
        "\n",
        "Using the comma (`,`):\n",
        "```\n",
        "Output: Hello 5\n",
        "```\n",
        "\n",
        "Using the plus (`+`):\n",
        "```\n",
        "Output: Hello 5\n",
        "```\n",
        "\n",
        "In both cases, the outputs are the same in this example. However, the distinction comes in how they handle different types and spacing, as previously explained. Using the comma is generally more forgiving and flexible for printing multiple items, while the plus sign requires more care regarding type compatibility and formatting."
      ],
      "metadata": {
        "id": "CPVKyuY2KKjd"
      }
    }
  ]
}