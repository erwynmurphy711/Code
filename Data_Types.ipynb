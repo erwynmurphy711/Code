{
  "nbformat": 4,
  "nbformat_minor": 0,
  "metadata": {
    "colab": {
      "provenance": []
    },
    "kernelspec": {
      "name": "python3",
      "display_name": "Python 3"
    },
    "language_info": {
      "name": "python"
    }
  },
  "cells": [
    {
      "cell_type": "markdown",
      "source": [
        "\n",
        "### **Data Types Introduction**\n",
        "\n",
        "- **What are Data Types?**\n",
        "    - In computer science, a data type is a classification that specifies which type of value a variable can hold. Think of it as a label for the kind of data (e.g., numbers, texts, true/false values) we're dealing with.\n",
        "    - For instance, if we label something as a 'text' type, it means the variable will hold textual information like names, addresses, etc.\n",
        "\n",
        "#### **Why Do We Need Different Data Types?**\n",
        "1. **Efficiency:** Different data types use different amounts of memory. By choosing the right data type, we ensure our programs run efficiently.\n",
        "2. **Precision:** Some tasks require precision. For instance, financial calculations might need decimal values instead of whole numbers.\n",
        "3. **Clarity:** Using the right data type makes the code more readable and understandable.\n",
        "4. **Error Prevention:** Certain operations are only valid for specific data types. Having the right type can prevent errors. For example, you wouldn't want to accidentally add someone's name to their age.\n",
        "\n",
        "---\n",
        "\n",
        "### **Integers and Floats**\n",
        "\n",
        "#### **Definition and Examples of Integers and Floats**\n",
        "- **Integers:**\n",
        "    - These are whole numbers that can be positive, negative, or zero. They do not have decimal points.\n",
        "    - Examples: -3, -2, -1, 0, 1, 2, 3, ...\n",
        "- **Floats:**\n",
        "    - Also known as floating-point numbers, these are numbers that have a decimal point.\n",
        "    - They can represent real numbers (both rational and irrational numbers).\n",
        "    - Examples: -3.5, 0.0, 2.71, 3.14, ...\n",
        "\n",
        "#### **The Difference Between the Two**\n",
        "1. **Representation:** Integers are whole numbers without a decimal point, while floats have a decimal point.\n",
        "2. **Memory:** Floats typically require more memory than integers due to the precision they carry.\n",
        "3. **Operations:** Some operations might yield different results. For instance, dividing two integers might truncate the result, whereas dividing two floats will retain the decimal portion.\n",
        "\n",
        "#### **Practice: Create Variables of Integer and Float Types and Perform Basic Arithmetic Operations**\n",
        "1. **Creating Variables:**\n",
        "```python\n",
        "int_variable = 5\n",
        "float_variable = 5.5\n",
        "```\n",
        "2. **Arithmetic Operations:**\n",
        "    - **Addition:** `int_variable + 3` will result in `8`, but `float_variable + 3` will result in `8.5`.\n",
        "    - **Division:** `int_variable / 2` might differ in some languages in its result compared to `float_variable / 2`. In Python 3, both will return a float, but in some languages, integer division truncates the result.\n",
        "    - **Multiplication:** `int_variable * 2` will result in `10`, and `float_variable * 2` will result in `11.0`.\n",
        "\n",
        "3. **Experimentation:** Create your own integer and float variables and experiment with various arithmetic operations to observe the outcomes.\n",
        "\n",
        "---\n"
      ],
      "metadata": {
        "id": "LBu00G47APLR"
      }
    },
    {
      "cell_type": "code",
      "source": [
        "integer_num = 2\n",
        "float_num = 2.5\n",
        "\n",
        "print(integer_num*float_num)\n",
        "\n",
        "\n"
      ],
      "metadata": {
        "id": "LCcqz0c-EMxq",
        "outputId": "b0a72561-2190-426c-9380-843c5d294ee5",
        "colab": {
          "base_uri": "https://localhost:8080/"
        }
      },
      "execution_count": 1,
      "outputs": [
        {
          "output_type": "stream",
          "name": "stdout",
          "text": [
            "5.0\n"
          ]
        }
      ]
    },
    {
      "cell_type": "markdown",
      "source": [
        "**1. Coffee Shop Calculator**\n",
        "   \n",
        "**Objective:** Calculate the total cost of items ordered at a coffee shop.\n",
        "\n",
        "- **Instructions:**\n",
        "   - Imagine you're visiting your favorite coffee shop.\n",
        "   - Use the `input()` function to ask the user to specify the number of espressos, lattes, and muffins they'd like to \"buy\". Convert these to integer values.\n",
        "   - Similarly, take user input for the prices of each item and convert these to float values.\n",
        "   - Write a program to calculate and display the total cost.\n",
        "\n",
        "---"
      ],
      "metadata": {
        "id": "bBnOPo9OEAEW"
      }
    },
    {
      "cell_type": "code",
      "source": [
        "#Your code for exercise 1 in here\n",
        "\n",
        "expressos_price = 6.99\n",
        "lattes_price = 5.00\n",
        "muffin_price = 3.99\n",
        "\n",
        "print(\"How many espressos would you like?\")\n",
        "expressos_number = int(input())\n",
        "print(\"How many lattes would you like?\")\n",
        "lattes_number = int(input())\n",
        "print(\"how many muffins would you like to buy?\")\n",
        "muffin_number = int(input())\n",
        "\n",
        "print(\"\")\n",
        "print(\"Final Price\")\n",
        "if expressos_number > 0:\n",
        "  print(\"Expressos \", expressos_price*expressos_number)\n",
        "if lattes_number > 0:\n",
        "  print(\"Lattes \", lattes_price*lattes_number)\n",
        "if muffin_number > 0:\n",
        "  print(\"Muffuns \", muffin_number*muffin_number)\n",
        "\n"
      ],
      "metadata": {
        "id": "ymdlxypHEeHA",
        "outputId": "5b67bed9-047a-4994-9c5c-b8a2dbcd851c",
        "colab": {
          "base_uri": "https://localhost:8080/"
        }
      },
      "execution_count": 5,
      "outputs": [
        {
          "output_type": "stream",
          "name": "stdout",
          "text": [
            "How many espressos would you like?\n",
            "1\n",
            "How many lattes would you like?\n",
            "0\n",
            "how many muffins would you like to buy?\n",
            "3\n",
            "\n",
            "Final Price\n",
            "Expressos  6.99\n",
            "Muffuns  9\n"
          ]
        }
      ]
    },
    {
      "cell_type": "markdown",
      "source": [
        "**2. Rocket Launch Countdown**\n",
        "   \n",
        "**Objective:** Simulate a rocket launch countdown.\n",
        "\n",
        "- **Instructions:**\n",
        "   - Use the `input()` function to ask the user for a starting countdown number and convert it to an integer.\n",
        "   - Write a loop that subtracts 1 from the variable and prints the current countdown number each iteration.\n",
        "   - Add a delay (using time.sleep in Python) of 0.5 seconds between each countdown number.\n",
        "\n",
        "---\n"
      ],
      "metadata": {
        "id": "5cn16bvxEiz5"
      }
    },
    {
      "cell_type": "code",
      "source": [
        "#Your code for exercise 2 in here\n",
        "import time\n",
        "print(\"Countdown timer\")\n",
        "countdown_timer = int(input())\n",
        "countdown_timer = countdown_timer - 1\n",
        "while countdown_timer > 0:\n",
        "  time.sleep(0.5)\n",
        "  print(countdown_timer)\n",
        "  countdown_timer = countdown_timer - 1\n",
        "time.sleep(1)\n",
        "print(\"Lift Off!\")"
      ],
      "metadata": {
        "id": "ys1WJFJWEncP",
        "outputId": "69f67f11-ae37-412d-f9a9-3f0dcf735ee9",
        "colab": {
          "base_uri": "https://localhost:8080/"
        }
      },
      "execution_count": 20,
      "outputs": [
        {
          "output_type": "stream",
          "name": "stdout",
          "text": [
            "Countdown timer\n",
            "12\n",
            "11\n",
            "10\n",
            "9\n",
            "8\n",
            "7\n",
            "6\n",
            "5\n",
            "4\n",
            "3\n",
            "2\n",
            "1\n",
            "Lift Off!\n"
          ]
        }
      ]
    },
    {
      "cell_type": "markdown",
      "source": [
        "**3. Your Weight on Other Planets**\n",
        "   \n",
        "**Objective:** Find out how much you'd weigh on different planets based on their gravity.\n",
        "\n",
        "- **Instructions:**\n",
        "   - Use the `input()` function to ask the user for their weight on Earth and convert this to a float.\n",
        "   - Create float variables for the gravity factor of different planets (e.g., Mars is about 0.38 of Earth's gravity).\n",
        "   - Calculate and display how much they'd weigh on each of these planets.\n",
        "\n",
        "---"
      ],
      "metadata": {
        "id": "_4CLsHIKEsGa"
      }
    },
    {
      "cell_type": "code",
      "source": [
        "#Exercise 3\n",
        "\n",
        "print(\"What is your weight?\")\n",
        "weight = float(input())\n",
        "mercury_weight = weight*0.38\n",
        "venus_weight = weight*0.91\n",
        "mars_weight = weight*0.38\n",
        "jupiter_weight = weight*2.53\n",
        "saturn_weight = weight*1.07\n",
        "uranus_weight = weight*0.89\n",
        "neptune_weight = weight*1.14\n",
        "print(\"Your weight on Mercury \", round(mercury_weight,2))\n",
        "print(\"Your weight on Venus \", round(venus_weight,2))\n",
        "print(\"Your weight on Mars \", round(mars_weight,2))\n",
        "print(\"Your weight on Jupiter \", round(jupiter_weight,2))\n",
        "print(\"Your weight on Saturn \", round(saturn_weight,2))\n",
        "print(\"Your weight on Uranus \", round(uranus_weight,2))\n",
        "print(\"Your weight on Neptune \", round(neptune_weight,2))"
      ],
      "metadata": {
        "id": "2CGVY3iiEvR9",
        "outputId": "18d4f688-fcf2-4048-bae1-7f853d1274ab",
        "colab": {
          "base_uri": "https://localhost:8080/"
        }
      },
      "execution_count": 24,
      "outputs": [
        {
          "output_type": "stream",
          "name": "stdout",
          "text": [
            "What is your weight?\n",
            "71\n",
            "Your weight on Mercury  26.98\n",
            "Your weight on Venus  64.61\n",
            "Your weight on Mars  26.98\n",
            "Your weight on Jupiter  179.63\n",
            "Your weight on Saturn  75.97\n",
            "Your weight on Uranus  63.19\n",
            "Your weight on Neptune  80.94\n"
          ]
        }
      ]
    },
    {
      "cell_type": "markdown",
      "source": [
        "print(\"Your weight on Mercury \", mercury_weight)**4. Pizza Party Calculator**\n",
        "   \n",
        "**Objective:** Calculate the cost per slice of pizza.\n",
        "\n",
        "- **Instructions:**\n",
        "   - Use the `input()` function to ask the user how many pizzas they bought and the total cost. Convert these values appropriately (integer for number of pizzas, float for cost).\n",
        "   - Ask the user to specify how many slices each pizza has and convert this to an integer.\n",
        "   - Calculate and display the cost per slice.\n",
        "\n",
        "---"
      ],
      "metadata": {
        "id": "iSGrrgiNExxp"
      }
    },
    {
      "cell_type": "code",
      "source": [
        "#Exercise 4\n",
        "print(\"How many pizzas did you buy?\")\n",
        "total_pizzas = int(input())\n",
        "print(\"How much did it cost in total?\")\n",
        "pizza_price = float(input())\n",
        "print(\"Each pizza cost \", round(pizza_price/total_pizzas,2))\n",
        "\n",
        "\n"
      ],
      "metadata": {
        "id": "QFiXisVwE0ZR",
        "outputId": "788f73e5-72cb-4453-cf64-c657cf427fa3",
        "colab": {
          "base_uri": "https://localhost:8080/"
        }
      },
      "execution_count": 26,
      "outputs": [
        {
          "output_type": "stream",
          "name": "stdout",
          "text": [
            "How many pizzas did you buy?\n",
            "5\n",
            "How much did it cost in total?\n",
            "2.99\n",
            "Each pizza cost  0.6\n"
          ]
        }
      ]
    },
    {
      "cell_type": "markdown",
      "source": [
        "\n",
        "**5. Travel Budget Calculator**\n",
        "   \n",
        "**Objective:** Calculate the total budget required for a trip.\n",
        "\n",
        "- **Instructions:**\n",
        "   - Imagine you're planning a trip to your dream destination.\n",
        "   - Use the `input()` function to ask the user for the number of days they plan to stay and convert this to an integer.\n",
        "   - Ask the user to specify the estimated daily expenses for food, accommodation, and sightseeing. Convert these to float values.\n",
        "   - Write a program to calculate and display the total estimated cost for the trip.\n",
        "\n",
        "---"
      ],
      "metadata": {
        "id": "bgTECsKHE3CF"
      }
    },
    {
      "cell_type": "code",
      "source": [
        "#Exercise 5\n",
        "print(\"How many days are you planning to stay?\")\n",
        "number_days = int(input())\n",
        "print(\"What is the daily estimated cost of food?\")\n",
        "daily_food = float(input())\n",
        "print(\"What is the daily estimated cost of accommodation?\")\n",
        "daily_accommodation = float(input())\n",
        "print(\"What is the daily estimated cost of sightseeing?\")\n",
        "daily_sightseeing = float(input())\n",
        "total_daily_cost = daily_food+daily_accommodation+daily_sightseeing\n",
        "print(\"The total estimated cost for your dream trip will be \", round(total_daily_cost*number_days,2), \" dollars\")\n",
        "\n"
      ],
      "metadata": {
        "id": "sT4Q-aYuE4jM",
        "outputId": "e62de428-95c7-439f-f78a-4a228ae54a62",
        "colab": {
          "base_uri": "https://localhost:8080/"
        }
      },
      "execution_count": 28,
      "outputs": [
        {
          "output_type": "stream",
          "name": "stdout",
          "text": [
            "How many days are you planning to stay?\n",
            "10\n",
            "What is the daily estimated cost of food?\n",
            "8.99\n",
            "What is the daily estimated cost of accommodation?\n",
            "5\n",
            "What is the daily estimated cost of sightseeing?\n",
            "10\n",
            "The total estimated cost for your dream trip will be  239.9  dollars\n"
          ]
        }
      ]
    }
  ]
}