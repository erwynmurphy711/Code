{
  "nbformat": 4,
  "nbformat_minor": 0,
  "metadata": {
    "colab": {
      "provenance": []
    },
    "kernelspec": {
      "name": "python3",
      "display_name": "Python 3"
    },
    "language_info": {
      "name": "python"
    }
  },
  "cells": [
    {
      "cell_type": "markdown",
      "source": [
        "### **String Manipulation: Concatenation and Repetition**\n",
        "\n",
        "**String Concatenation:**\n",
        "- **Definition:** Combining two or more strings end-to-end.\n",
        "- **Operator:** The `+` operator is used for string concatenation.\n",
        "- **Example:**\n",
        "  ```python\n",
        "  first_name = \"John\"\n",
        "  last_name = \"Doe\"\n",
        "  full_name = first_name + \" \" + last_name  # Results in \"John Doe\"\n",
        "  ```\n",
        "\n",
        "**String Repetition:**\n",
        "- **Definition:** Repeating a string multiple times.\n",
        "- **Operator:** The `*` operator is used for string repetition.\n",
        "- **Example:**\n",
        "  ```python\n",
        "  word = \"echo\"\n",
        "  repeated_word = word * 3  # Results in \"echoechoecho\"\n",
        "  ```"
      ],
      "metadata": {
        "id": "XP9wGbNUyyQw"
      }
    },
    {
      "cell_type": "markdown",
      "source": [
        "**Practice:**\n",
        "1. **Fruit Salad:** Ask the user for their two favorite fruits. Concatenate them to form a new fruit name.\n",
        "\n"
      ],
      "metadata": {
        "id": "1-CbJq8Ey6zA"
      }
    },
    {
      "cell_type": "code",
      "source": [
        "#Ex1\n",
        "fruit_one = str(input(\"Give me 1 fruit \"))\n",
        "fruit_two = str(input(\"Give me another fruit \"))\n",
        "print(\"Here is a new fruit\", fruit_one+fruit_two)"
      ],
      "metadata": {
        "id": "aamagxLxy-Yj",
        "outputId": "e2d812f7-a31a-4712-f187-993aca946dc5",
        "colab": {
          "base_uri": "https://localhost:8080/"
        }
      },
      "execution_count": 1,
      "outputs": [
        {
          "output_type": "stream",
          "name": "stdout",
          "text": [
            "Give me 1 fruitapple\n",
            "Give me another fruitbanana\n",
            "Here is a new fruit  applebanana\n"
          ]
        }
      ]
    },
    {
      "cell_type": "markdown",
      "source": [
        "\n",
        "2. **Echo Chamber:** Ask the user for a word and a number. Repeat the word as many times as the number they've provided."
      ],
      "metadata": {
        "id": "sXAvgbTCzAs-"
      }
    },
    {
      "cell_type": "code",
      "source": [
        "#Ex2\n",
        "number = int(input(\"Give me a random number \"))\n",
        "word = str(input(\"Give me a random word \"))\n",
        "print(number*word)"
      ],
      "metadata": {
        "id": "otlrxyquzCrb",
        "outputId": "8fafa1bd-920e-43db-de58-9d22511bc64a",
        "colab": {
          "base_uri": "https://localhost:8080/"
        }
      },
      "execution_count": 2,
      "outputs": [
        {
          "output_type": "stream",
          "name": "stdout",
          "text": [
            "Give me a random number 5\n",
            "Give me a random word word\n",
            "wordwordwordwordword\n"
          ]
        }
      ]
    },
    {
      "cell_type": "markdown",
      "source": [
        "\n",
        "3. **Full Name Formatter:** Ask the user for their first name, middle name, and last name. Display their full name by concatenating these strings."
      ],
      "metadata": {
        "id": "LqkkcBxuzERf"
      }
    },
    {
      "cell_type": "code",
      "source": [
        "#Ex3\n",
        "first_name = str(input(\"First name? \"))\n",
        "middle_name = str(input(\"Middle name? (If you don't have one asnwer [NA]) \"))\n",
        "last_name = str(input(\"Last name? \"))\n",
        "if middle_name == \"NA\":\n",
        "  print(first_name, last_name)\n",
        "else:\n",
        "  print(first_name, middle_name, last_name)"
      ],
      "metadata": {
        "id": "pTtJKK9dzFRp",
        "outputId": "d82f460b-09a8-47ae-fccd-5e1d67a91d49",
        "colab": {
          "base_uri": "https://localhost:8080/"
        }
      },
      "execution_count": 5,
      "outputs": [
        {
          "output_type": "stream",
          "name": "stdout",
          "text": [
            "First name? erwyn\n",
            "Middle name? (If you don't have one asnwer NA) todd\n",
            "Last name?murphy\n",
            "erwyn todd murphy\n"
          ]
        }
      ]
    },
    {
      "cell_type": "markdown",
      "source": [
        "### **Basic String Methods**\n",
        "\n",
        "**String Methods:**\n",
        "- **Definition:** Built-in functions in Python that can be called on a string to perform specific operations.\n",
        "- **Common Methods:**\n",
        "  - `upper()`: Converts the string to uppercase.\n",
        "  - `lower()`: Converts the string to lowercase.\n",
        "  - `title()`: Converts the string to title case (first letter of each word is capitalized).\n",
        "  - `len()`: Returns the length of the string.\n",
        "\n",
        "**String Slicing and Indexing:**\n",
        "- **Indexing:** Accessing a single character in a string using its position. Python string indices start at 0.\n",
        "  ```python\n",
        "  word = \"python\"\n",
        "  first_letter = word[0]  # Results in \"p\"\n",
        "  ```\n",
        "- **Slicing:** Accessing a range of characters in a string.\n",
        "  ```python\n",
        "  word = \"python\"\n",
        "  slice_word = word[1:4]  # Results in \"yth\"\n",
        "  ```\n",
        "\n",
        "\n"
      ],
      "metadata": {
        "id": "PbFzoj9EzHCn"
      }
    },
    {
      "cell_type": "markdown",
      "source": [
        "**Practice:**\n",
        "1. **Name Formatter:**\n",
        "   - Ask the user for their full name.\n",
        "   - Display their name in uppercase, lowercase, and title case.\n",
        "   - Show the length of their name."
      ],
      "metadata": {
        "id": "PqvCHbWkzbcK"
      }
    },
    {
      "cell_type": "code",
      "source": [
        "#Ex1\n",
        "first_name = str(input(\"First name? \"))\n",
        "last_name = str(input(\"Last name? \"))\n",
        "print(first_name.lower(), last_name.lower())\n",
        "print(first_name.upper(), last_name.upper())\n",
        "print(first_name.title(), last_name.title())"
      ],
      "metadata": {
        "id": "gyuRgCP-zZDV",
        "outputId": "1c685605-f8e6-4581-cf91-07cafd1513cc",
        "colab": {
          "base_uri": "https://localhost:8080/"
        }
      },
      "execution_count": 7,
      "outputs": [
        {
          "output_type": "stream",
          "name": "stdout",
          "text": [
            "First name? erwyn\n",
            "Last name? murphy\n",
            "erwyn murphy\n",
            "ERWYN MURPHY\n",
            "Erwyn Murphy\n"
          ]
        }
      ]
    },
    {
      "cell_type": "markdown",
      "source": [
        "2. **Initials Extractor:**\n",
        "   - Ask the user for their first name and last name.\n",
        "   - Display their initials by extracting the first character from both names."
      ],
      "metadata": {
        "id": "m5XX1vRzzd-1"
      }
    },
    {
      "cell_type": "code",
      "source": [
        "#Ex2\n",
        "first_name = str(input(\"First name? \"))\n",
        "last_name = str(input(\"Last name? \"))\n",
        "first_letter_first = first_name[0]\n",
        "first_letter_last = last_name[0]\n",
        "print(first_letter_first.upper(), first_letter_last.upper())"
      ],
      "metadata": {
        "id": "0RegpgLazf1R",
        "outputId": "02a4626e-5d70-4516-f8b1-146f8e6ad266",
        "colab": {
          "base_uri": "https://localhost:8080/"
        }
      },
      "execution_count": 9,
      "outputs": [
        {
          "output_type": "stream",
          "name": "stdout",
          "text": [
            "First name? erwyn\n",
            "Last name? murphy\n",
            "E M\n"
          ]
        }
      ]
    },
    {
      "cell_type": "markdown",
      "source": [
        "*CHALLENGE!!!\n",
        "This is a tough one that requires concepts we have not learnt in class yet!*\n",
        "3. **Secret Code:**\n",
        "   - Ask the user for a word.\n",
        "   - Display the word with every second letter in uppercase and the others in lowercase."
      ],
      "metadata": {
        "id": "moPvuFqJzhNz"
      }
    },
    {
      "cell_type": "code",
      "source": [
        "#Ex3\n",
        "print(\"Give me a word\")\n",
        "word = str(input())\n",
        "length = int(len(word))\n",
        "new_length = int(length+1)\n",
        "word_second_letter = word[1]\n",
        "word_first_letter = word[0]\n",
        "word_rest = word[2:new_length]\n",
        "print(word_first_letter+word_second_letter.upper()+word_rest)"
      ],
      "metadata": {
        "id": "Hl77BxQxziQL",
        "outputId": "109fc286-fd03-4843-aae4-efb02f4e90d8",
        "colab": {
          "base_uri": "https://localhost:8080/"
        }
      },
      "execution_count": 13,
      "outputs": [
        {
          "output_type": "stream",
          "name": "stdout",
          "text": [
            "Give me a word\n",
            "trainwreck\n",
            "tRainwreck\n"
          ]
        }
      ]
    }
  ]
}