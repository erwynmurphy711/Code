{
  "nbformat": 4,
  "nbformat_minor": 0,
  "metadata": {
    "colab": {
      "provenance": []
    },
    "kernelspec": {
      "name": "python3",
      "display_name": "Python 3"
    },
    "language_info": {
      "name": "python"
    }
  },
  "cells": [
    {
      "cell_type": "code",
      "execution_count": 1,
      "metadata": {
        "colab": {
          "base_uri": "https://localhost:8080/"
        },
        "id": "Za71THH76k24",
        "outputId": "f887a69e-0b3a-4a8d-f3ee-37ae19117013"
      },
      "outputs": [
        {
          "output_type": "stream",
          "name": "stdout",
          "text": [
            "What is the day? sunday\n",
            "Weekemd :)\n"
          ]
        }
      ],
      "source": [
        "#ex1\n",
        "day = input(\"What is the day? \")\n",
        "if day.lower() == \"monday\" or day.lower() ==\"tuesday\" or day.lower() ==\"wednesday\" or day.lower() ==\"thursday\" or day.lower() ==\"friday\":\n",
        "  print(\"Weekday\")\n",
        "else:\n",
        "  print(\"Weekemd :)\")"
      ]
    },
    {
      "cell_type": "code",
      "source": [
        "#ex2\n",
        "password = input()\n",
        "if len(password) >= 8:\n",
        "  if password[0].isupper():\n",
        "    if password[-1].isdigit():\n",
        "      print(\"Your password is strong\")\n",
        "    else:\n",
        "      print(\"Inlcude a digit at the end\")\n",
        "  else:\n",
        "    print(\"Include a capital letter as the first character\")\n",
        "else:\n",
        "  print(\"Your password must be at least 8 characters long\")"
      ],
      "metadata": {
        "colab": {
          "base_uri": "https://localhost:8080/"
        },
        "id": "8_jqQL5N7Y2S",
        "outputId": "1d715840-bdd8-48ad-d5fd-1ec7914e9039"
      },
      "execution_count": null,
      "outputs": [
        {
          "output_type": "stream",
          "name": "stdout",
          "text": [
            "d\n",
            "Your password must be at least 8 characters long\n"
          ]
        }
      ]
    },
    {
      "cell_type": "code",
      "source": [
        "#ex3\n",
        "age = int(input(\"Please enter your age: \"))\n",
        "\n",
        "if age < 12:\n",
        "    ticket_price = 5\n",
        "    print(\"Ticket price is\", ticket_price)\n",
        "elif 12 <= age <= 17:\n",
        "    ticket_price = 7\n",
        "    print(\"Ticket price is\", ticket_price)\n",
        "elif 18 <= age <= 59:\n",
        "    ticket_price = 10\n",
        "    print(\"Ticket price is\", ticket_price)\n",
        "elif age >= 60:\n",
        "    ticket_price = 6\n",
        "    print(\"Ticket price is\", ticket_price)"
      ],
      "metadata": {
        "colab": {
          "base_uri": "https://localhost:8080/"
        },
        "id": "GJDLjMYQ7ZF-",
        "outputId": "1b4a5e79-1ca7-4c13-e6fe-23172f703616"
      },
      "execution_count": null,
      "outputs": [
        {
          "output_type": "stream",
          "name": "stdout",
          "text": [
            "Please enter your age: 10\n",
            "Ticket price is 5\n"
          ]
        }
      ]
    },
    {
      "cell_type": "code",
      "source": [
        "#ex4\n",
        "income = int(input(\"What is your income? \"))\n",
        "if income <= 10000:\n",
        "  print(\"No tax!\")\n",
        "elif income < 10000 and income <=50000:\n",
        "  new_income = income-10000\n",
        "  print(\"Your tax is\", new_income*0.1)\n",
        "else:\n",
        "  new_income = income - 50000\n",
        "  print(\"Your tax is\", (40000*0.1)+(new_income*0.2))"
      ],
      "metadata": {
        "colab": {
          "base_uri": "https://localhost:8080/"
        },
        "id": "XJm9BAN_7ZJo",
        "outputId": "ed8b9d8f-9b39-4cc3-fa64-13b4329f82ad"
      },
      "execution_count": null,
      "outputs": [
        {
          "output_type": "stream",
          "name": "stdout",
          "text": [
            "What is your income? 92000\n",
            "Your tax is 12400.0\n"
          ]
        }
      ]
    },
    {
      "cell_type": "code",
      "source": [
        "#ex5\n",
        "student = str(input(\"Are you a student? \"))\n",
        "senior = str(input(\"Are you a senior? \"))\n",
        "if student.lower() == \"yes\" or senior.lower() ==\"yes\":\n",
        "  print(\"You are eligible for a discount! \")\n",
        "else:\n",
        "  print(\"You are not eligible for a discount :(\")"
      ],
      "metadata": {
        "colab": {
          "base_uri": "https://localhost:8080/"
        },
        "id": "LdbhnIKT7ZQN",
        "outputId": "17739930-d906-4fa5-acb2-da366ba22441"
      },
      "execution_count": null,
      "outputs": [
        {
          "output_type": "stream",
          "name": "stdout",
          "text": [
            "Are you a student? no\n",
            "Are you a senior? no\n",
            "You are not eligible for a discount :(\n"
          ]
        }
      ]
    },
    {
      "cell_type": "code",
      "source": [
        "#ex6\n",
        "weight = float(input(\"What is the weight of your package \"))\n",
        "if weight <=1:\n",
        "  print(\"That will be $5\")\n",
        "elif weight >1 and weight <=5:\n",
        "  print(\"That will be $10\")\n",
        "else:\n",
        "  print(\"That will be $20\")"
      ],
      "metadata": {
        "colab": {
          "base_uri": "https://localhost:8080/"
        },
        "id": "Uv3XZXSp7ZSq",
        "outputId": "b7662fd5-f515-4f18-d2ea-7491a28de34e"
      },
      "execution_count": null,
      "outputs": [
        {
          "output_type": "stream",
          "name": "stdout",
          "text": [
            "What is the weight of your package 3.3\n",
            "That will be $10\n"
          ]
        }
      ]
    },
    {
      "cell_type": "code",
      "source": [
        "#ex7\n",
        "age = int(input(\"What is your age? \"))\n",
        "if age <=18:\n",
        "  print(\"Would you like a juice?\")\n",
        "else:\n",
        "  print(\"Would you like an alchoholic drink?\")"
      ],
      "metadata": {
        "colab": {
          "base_uri": "https://localhost:8080/"
        },
        "id": "hPkE5Tvr7fVf",
        "outputId": "563e1802-3be8-4338-a10a-7da706cee584"
      },
      "execution_count": null,
      "outputs": [
        {
          "output_type": "stream",
          "name": "stdout",
          "text": [
            "What is your age? 22\n",
            "Would you like a alchoholic drink?\n"
          ]
        }
      ]
    }
  ]
}