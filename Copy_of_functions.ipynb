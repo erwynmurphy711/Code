{
  "nbformat": 4,
  "nbformat_minor": 0,
  "metadata": {
    "colab": {
      "provenance": [],
      "include_colab_link": true
    },
    "kernelspec": {
      "name": "python3",
      "display_name": "Python 3"
    },
    "language_info": {
      "name": "python"
    }
  },
  "cells": [
    {
      "cell_type": "markdown",
      "metadata": {
        "id": "view-in-github",
        "colab_type": "text"
      },
      "source": [
        "<a href=\"https://colab.research.google.com/github/erwynmurphy711/Code/blob/main/Copy_of_functions.ipynb\" target=\"_parent\"><img src=\"https://colab.research.google.com/assets/colab-badge.svg\" alt=\"Open In Colab\"/></a>"
      ]
    },
    {
      "cell_type": "markdown",
      "source": [
        "### **Introduction to Functions**\n",
        "\n",
        "In programming, a function is a self-contained block of code that encapsulates a specific task or related group of tasks. Functions are essential for breaking down complex tasks into smaller, more manageable parts.\n",
        "\n",
        "Advantages of using functions:\n",
        "- **Modularity:** Break down complex tasks into smaller, reusable chunks.\n",
        "- **Reusability:** Write once, use multiple times.\n",
        "- **Maintainability:** Easier to fix issues in one centralized location.\n",
        "- **Abstraction:** Hide complex implementation details, presenting a simple interface.\n",
        "\n",
        "---\n",
        "\n",
        "### **Defining and Calling Functions**\n",
        "\n",
        "**1. Defining a Function:**\n",
        "\n",
        "Use the `def` keyword followed by a function name, parentheses, and a colon. The code block within every function is indented.\n",
        "\n",
        "```python\n",
        "def greet():\n",
        "    print(\"Hello, World!\")\n",
        "```\n",
        "\n",
        "**2. Calling a Function:**\n",
        "\n",
        "To execute the function's code, use the function name followed by parentheses.\n",
        "\n",
        "```python\n",
        "greet()  # This will print \"Hello, World!\"\n",
        "```\n",
        "\n",
        "---\n",
        "\n",
        "### **Parameters and Return Values**\n",
        "\n",
        "**1. Parameters:**\n",
        "\n",
        "Functions can take inputs, known as parameters, to process and potentially use in its task.\n",
        "\n",
        "```python\n",
        "def greet(name):\n",
        "    print(f\"Hello, {name}!\")\n",
        "```\n",
        "\n",
        "**2. Return Values:**\n",
        "\n",
        "Functions can also return results to the caller using the `return` keyword. If no return statement is provided, the function will return `None` by default.\n",
        "\n",
        "```python\n",
        "def add(a, b):\n",
        "    return a + b\n",
        "```\n",
        "\n",
        "---"
      ],
      "metadata": {
        "id": "9G7BXlQXQQ9X"
      }
    },
    {
      "cell_type": "markdown",
      "source": [
        "### **Practice Exercises:**\n",
        "\n",
        "1. **Hello Name:**\n",
        "   - Define a function that takes a name as a parameter and prints \"Hello, [Name]!\".\n",
        "   \n"
      ],
      "metadata": {
        "id": "tBNd71f_yRYF"
      }
    },
    {
      "cell_type": "code",
      "source": [
        "input = input(\"What is your name? \")\n",
        "def greet(name):\n",
        "    print(f\"Hello, {name}!\")\n",
        "greet(input)"
      ],
      "metadata": {
        "id": "8lYZuO2CyUqd",
        "colab": {
          "base_uri": "https://localhost:8080/"
        },
        "outputId": "f851b51c-2f9a-48c0-88d5-ec412edc7a90"
      },
      "execution_count": 5,
      "outputs": [
        {
          "output_type": "stream",
          "name": "stdout",
          "text": [
            "nme\n",
            "Hello, nme!\n"
          ]
        }
      ]
    },
    {
      "cell_type": "markdown",
      "source": [
        "2. **Area of a Circle:**\n",
        "   - Define a function that calculates the area of a circle given its radius.\n",
        "\n"
      ],
      "metadata": {
        "id": "c58v6-epyVNf"
      }
    },
    {
      "cell_type": "code",
      "source": [
        "#ex2\n",
        "radius = int(input(\"What is the radius? \"))\n",
        "def cal(a):\n",
        "  return (a**2)\n",
        "print(str(cal(radius))+\"pi\")\n",
        "print(str(cal(5))+\"pi\")"
      ],
      "metadata": {
        "id": "DHoK_BaVyfgL",
        "colab": {
          "base_uri": "https://localhost:8080/"
        },
        "outputId": "1c5b4ebc-92e9-43cc-d0be-5707393ba579"
      },
      "execution_count": 9,
      "outputs": [
        {
          "output_type": "stream",
          "name": "stdout",
          "text": [
            "What is the radius? 5\n",
            "25pi\n"
          ]
        }
      ]
    },
    {
      "cell_type": "markdown",
      "source": [
        "3. **String Reverser:**\n",
        "   - Write a function that returns the reverse of a given string.\n",
        "\n"
      ],
      "metadata": {
        "id": "wUDhG3X5yiJW"
      }
    },
    {
      "cell_type": "code",
      "source": [
        "def reverse(word):\n",
        "  final_word = \"\"\n",
        "  word_length = len(word)-1\n",
        "  for i in range(word_length, -1,-1):\n",
        "    final_word += word[i]\n",
        "  print(final_word)\n",
        "reverse(\"apple\")"
      ],
      "metadata": {
        "id": "f7I9hlbSykBG",
        "colab": {
          "base_uri": "https://localhost:8080/"
        },
        "outputId": "8b40e013-5fab-495d-8f32-2f7943e84b6a"
      },
      "execution_count": 22,
      "outputs": [
        {
          "output_type": "stream",
          "name": "stdout",
          "text": [
            "elppa\n"
          ]
        }
      ]
    },
    {
      "cell_type": "markdown",
      "source": [
        "4. **List Multiplier:**\n",
        "   - Write a function that takes a list and a number as parameters. The function should return a new list where each element is multiplied by the number.\n",
        "\n"
      ],
      "metadata": {
        "id": "Z7trQ7wCyluv"
      }
    },
    {
      "cell_type": "code",
      "source": [
        "listone = [5, 6, 2, 3, 5]\n",
        "def multiply(a,b):\n",
        "  length = len(a)\n",
        "  nlist = [\"\"]*length\n",
        "  for i in range(0, length,1):\n",
        "    new_a = a[i]*b\n",
        "    nlist[i] = new_a\n",
        "  print(nlist)\n",
        "multiply(listone, 2)"
      ],
      "metadata": {
        "id": "QcK55imVynU8",
        "colab": {
          "base_uri": "https://localhost:8080/"
        },
        "outputId": "0f3c6289-a25d-4210-a84e-5812f3c8bd16"
      },
      "execution_count": 37,
      "outputs": [
        {
          "output_type": "stream",
          "name": "stdout",
          "text": [
            "[10, 12, 4, 6, 10]\n"
          ]
        }
      ]
    },
    {
      "cell_type": "markdown",
      "source": [
        "5. **Prime Checker:**\n",
        "   - Create a function that checks if a number is prime. If prime, it should return `True`, otherwise `False`.\n",
        "\n"
      ],
      "metadata": {
        "id": "cIZyRI10yogs"
      }
    },
    {
      "cell_type": "code",
      "source": [
        "#ex5\n",
        "def prime(num):\n",
        "  count=0\n",
        "  if num == 1:\n",
        "    return \"false\"\n",
        "  for i in range(2,num,1):\n",
        "    if num%i == 0:\n",
        "     count+=1\n",
        "  if count > 0:\n",
        "    return \"false\"\n",
        "  return \"true\"\n",
        "prime(9)"
      ],
      "metadata": {
        "id": "6bs6XxzSyprq",
        "colab": {
          "base_uri": "https://localhost:8080/",
          "height": 36
        },
        "outputId": "35275e1a-e64e-4db0-afe8-3da271b8b3a1"
      },
      "execution_count": 2,
      "outputs": [
        {
          "output_type": "execute_result",
          "data": {
            "text/plain": [
              "'false'"
            ],
            "application/vnd.google.colaboratory.intrinsic+json": {
              "type": "string"
            }
          },
          "metadata": {},
          "execution_count": 2
        }
      ]
    },
    {
      "cell_type": "markdown",
      "source": [
        "6. **Factorial Calculator:**\n",
        "   - Write a function that calculates the factorial of a number.\n",
        "\n"
      ],
      "metadata": {
        "id": "-g_xki8tyrjp"
      }
    },
    {
      "cell_type": "code",
      "source": [
        "#ex6\n",
        "def fac(a):\n",
        "  count = 1\n",
        "  for i in range(1,a+1,1):\n",
        "    count *= i\n",
        "  print(count)\n",
        "fac(5)"
      ],
      "metadata": {
        "id": "y3dO2HWdyswx",
        "colab": {
          "base_uri": "https://localhost:8080/"
        },
        "outputId": "a2f10332-9e9e-4423-c77a-c16d0f90c4f8"
      },
      "execution_count": 6,
      "outputs": [
        {
          "output_type": "stream",
          "name": "stdout",
          "text": [
            "120\n"
          ]
        }
      ]
    },
    {
      "cell_type": "markdown",
      "source": [
        "7. **Age in Dog Years:**\n",
        "   - Define a function that converts human years to dog years (1 human year = 7 dog years).\n",
        "\n"
      ],
      "metadata": {
        "id": "6XrVk9wzywM2"
      }
    },
    {
      "cell_type": "code",
      "source": [
        "#ex7\n",
        "def dog(a):\n",
        "  return a*7\n",
        "dog(5)"
      ],
      "metadata": {
        "id": "Uplmvk7Syxno",
        "colab": {
          "base_uri": "https://localhost:8080/"
        },
        "outputId": "9f6cfe9e-8471-4c4c-8ffb-30f88a2b4b4e"
      },
      "execution_count": 7,
      "outputs": [
        {
          "output_type": "execute_result",
          "data": {
            "text/plain": [
              "35"
            ]
          },
          "metadata": {},
          "execution_count": 7
        }
      ]
    },
    {
      "cell_type": "markdown",
      "source": [
        "8. **Temperature Converter:**\n",
        "   - Create a function that converts Celsius to Fahrenheit.\n",
        "\n"
      ],
      "metadata": {
        "id": "yzhpfw4Syzdc"
      }
    },
    {
      "cell_type": "code",
      "source": [
        "#ex8\n",
        "def F(c):\n",
        "  f = (c/(5/9))+32\n",
        "  return f\n",
        "F(35)"
      ],
      "metadata": {
        "id": "v-7DVKBWy0yK",
        "colab": {
          "base_uri": "https://localhost:8080/"
        },
        "outputId": "ed605381-ad86-45d4-ba99-80d59db6a748"
      },
      "execution_count": 9,
      "outputs": [
        {
          "output_type": "execute_result",
          "data": {
            "text/plain": [
              "95.0"
            ]
          },
          "metadata": {},
          "execution_count": 9
        }
      ]
    },
    {
      "cell_type": "markdown",
      "source": [
        "9. **String Repeater:**\n",
        "   - Define a function that takes a string and a number, then returns the string repeated that number of times.\n",
        "\n"
      ],
      "metadata": {
        "id": "kQlt7ezky1_Z"
      }
    },
    {
      "cell_type": "code",
      "source": [
        "#ex9\n",
        "def strnum(a,b):\n",
        "  print(a*b)\n",
        "strnum(\"apple\", 3)"
      ],
      "metadata": {
        "id": "n23sdrE8y3an",
        "colab": {
          "base_uri": "https://localhost:8080/"
        },
        "outputId": "0fcfa726-314d-4b6d-d26d-e7d8701b601a"
      },
      "execution_count": 10,
      "outputs": [
        {
          "output_type": "stream",
          "name": "stdout",
          "text": [
            "appleappleapple\n"
          ]
        }
      ]
    },
    {
      "cell_type": "markdown",
      "source": [
        "10. **List Average:**\n",
        "   - Write a function that calculates the average of a list of numbers.\n"
      ],
      "metadata": {
        "id": "PrcszXAay4e0"
      }
    },
    {
      "cell_type": "code",
      "source": [
        "#ex10\n",
        "listone = [5,6,7,1,2,3,4]\n",
        "def average(a):\n",
        "  length = len(a)\n",
        "  count = 0\n",
        "  for i in range(0, length,1):\n",
        "    count += a[i]\n",
        "    average = count/length\n",
        "  return average\n",
        "average(listone)"
      ],
      "metadata": {
        "id": "LSG5y_X-y54t",
        "colab": {
          "base_uri": "https://localhost:8080/"
        },
        "outputId": "8600e888-3644-432c-a773-a371826b7292"
      },
      "execution_count": 13,
      "outputs": [
        {
          "output_type": "execute_result",
          "data": {
            "text/plain": [
              "4.0"
            ]
          },
          "metadata": {},
          "execution_count": 13
        }
      ]
    }
  ]
}