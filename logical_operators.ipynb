{
  "nbformat": 4,
  "nbformat_minor": 0,
  "metadata": {
    "colab": {
      "provenance": []
    },
    "kernelspec": {
      "name": "python3",
      "display_name": "Python 3"
    },
    "language_info": {
      "name": "python"
    }
  },
  "cells": [
    {
      "cell_type": "markdown",
      "source": [
        "\n",
        "### **Logical Operators**\n",
        "\n",
        "Logical operators are used to combine conditional statements.\n",
        "\n",
        "**1. `and` Operator:**\n",
        "- Returns `True` if both statements are true.\n",
        "  \n",
        "  **Example:**\n",
        "  ```python\n",
        "  age = 25\n",
        "  if age > 18 and age < 30:\n",
        "      print(\"You are a young adult.\")\n",
        "  ```\n",
        "\n",
        "**2. `or` Operator:**\n",
        "- Returns `True` if at least one of the statements is true.\n",
        "  \n",
        "  **Example:**\n",
        "  ```python\n",
        "  day = \"Sunday\"\n",
        "  if day == \"Saturday\" or day == \"Sunday\":\n",
        "      print(\"It's the weekend!\")\n",
        "  ```\n",
        "\n",
        "**3. `not` Operator:**\n",
        "- Used to reverse the result; returns `False` if the result is true and vice versa.\n",
        "  \n",
        "  **Example:**\n",
        "  ```python\n",
        "  is_raining = False\n",
        "  if not is_raining:\n",
        "      print(\"It's a sunny day!\")\n",
        "  ```\n",
        "\n",
        "---\n",
        "\n",
        "### **Nested Conditional Statements**\n",
        "\n",
        "Sometimes, you may want to evaluate a condition inside another condition. This is referred to as nesting.\n",
        "\n",
        "**Example:**\n",
        "```python\n",
        "age = 25\n",
        "gender = \"Female\"\n",
        "if age < 30:\n",
        "    if gender == \"Female\":\n",
        "        print(\"Young female.\")\n",
        "    else:\n",
        "        print(\"Young male.\")\n",
        "else:\n",
        "    if gender == \"Female\":\n",
        "        print(\"Mature female.\")\n",
        "    else:\n",
        "        print(\"Mature male.\")\n",
        "```\n",
        "\n",
        "In the example above, the outer `if` checks the age, and the inner `if` checks the gender, leading to more precise classifications.\n",
        "\n"
      ],
      "metadata": {
        "id": "_J_0H623DMoG"
      }
    },
    {
      "cell_type": "code",
      "source": [
        "#Test the examples above here"
      ],
      "metadata": {
        "id": "1tzurxbLDYuS"
      },
      "execution_count": null,
      "outputs": []
    },
    {
      "cell_type": "markdown",
      "source": [
        "### **Practice Exercises:**\n",
        "\n",
        "1. **Temperature Alert:**\n",
        "   - Ask the user for the current temperature and if it's raining (yes/no).\n",
        "   - If it's above 30°C and not raining, suggest wearing sunscreen. If it's below 30°C and raining, suggest taking an umbrella.\n",
        "\n",
        "\n",
        "\n"
      ],
      "metadata": {
        "id": "_2pb9LXWDcXE"
      }
    },
    {
      "cell_type": "code",
      "source": [
        "temperature = int(input(\"What is the temperature? \"))\n",
        "rain_status = str(input(\"Is it raining? \"))\n",
        "if rain_status.lower() == \"no\" and temperature > 30:\n",
        "  print(\"Please wear sunscreen, it is very hot! \")\n",
        "elif rain_status.lower() == \"yes\" and temperature < 30:\n",
        "  print(\"We suggest you wear an umbrella \")\n",
        "else:\n",
        "  print(\"It's hot and raining!\")"
      ],
      "metadata": {
        "id": "AyCFWr2cDiuz",
        "outputId": "e1928f63-c4ff-46ae-90f3-dae2f02de5af",
        "colab": {
          "base_uri": "https://localhost:8080/"
        }
      },
      "execution_count": 6,
      "outputs": [
        {
          "output_type": "stream",
          "name": "stdout",
          "text": [
            "What is the temperature? 31\n",
            "Is it raining? no\n",
            "Please wear sunscreen, it is very hot! \n"
          ]
        }
      ]
    },
    {
      "cell_type": "markdown",
      "source": [
        "2. **Movie Night:**\n",
        "   - Ask the user if they like action movies and if they like romantic movies.\n",
        "   - Recommend a movie based on their preferences:\n",
        "     - Action and romance: \"Mr. & Mrs. Smith\",\n",
        "     - Only action: \"Die Hard\",\n",
        "     - Only romance: \"Pride and Prejudice\",\n",
        "     - Neither: \"Try watching a documentary!\"\n",
        "\n"
      ],
      "metadata": {
        "id": "hne5hxgMDj0i"
      }
    },
    {
      "cell_type": "code",
      "source": [
        "#Ex2\n",
        "romantic = input(\"Do you like romantic movies? \")\n",
        "action = input(\"Do you like action movies? \")\n",
        "if romantic.lower() == \"yes\" and action.lower() == \"yes\":\n",
        "  print(\"We recommend Mr. & Mrs. Smith\")\n",
        "elif romantic.lower() == \"yes\":\n",
        "  print(\"We recommend Pride and Prejudice\")\n",
        "elif action.lower() == \"yes\":\n",
        "  print(\"We recommend Die Hard\")\n",
        "else:\n",
        "  print(\"Try watching a documentary!\")"
      ],
      "metadata": {
        "id": "m13PVPajDlwd",
        "outputId": "7d401b52-4c1f-4506-e4c7-8d57f4264223",
        "colab": {
          "base_uri": "https://localhost:8080/"
        }
      },
      "execution_count": 10,
      "outputs": [
        {
          "output_type": "stream",
          "name": "stdout",
          "text": [
            "Do you like romantic movies? no\n",
            "Do you like action movies? no\n",
            "Try watching a documentary!\n"
          ]
        }
      ]
    },
    {
      "cell_type": "markdown",
      "source": [
        "3. **Eligibility for a Credit Card:**\n",
        "   - Ask the user for their age and monthly salary.\n",
        "   - If they are over 18 and earn more than $1,000 per month, inform them they are eligible for a credit card.\n"
      ],
      "metadata": {
        "id": "2DUNWDlsDmzl"
      }
    },
    {
      "cell_type": "code",
      "source": [
        "#Ex3\n",
        "age = int(input(\"How old are you? \"))\n",
        "salary = int(input(\"What is your monthly salary? \"))\n",
        "if age >= 18 and salary >= 1000:\n",
        "  print(\"You are eligible for a credit card!\")\n",
        "else:\n",
        "  print(\"You are not eligible for a credit card!\")"
      ],
      "metadata": {
        "id": "KiuF2ByZDoZG",
        "outputId": "b2afadbf-1c6e-4178-e51a-c0194f434f8b",
        "colab": {
          "base_uri": "https://localhost:8080/"
        }
      },
      "execution_count": 13,
      "outputs": [
        {
          "output_type": "stream",
          "name": "stdout",
          "text": [
            "How old are you? 20\n",
            "What is your monthly salary? 120\n",
            "You are not eligible for a credit card!\n"
          ]
        }
      ]
    },
    {
      "cell_type": "markdown",
      "source": [
        "\n",
        "4. **Nested Age Bracket Classifier:**\n",
        "   - Ask the user for their age and gender.\n",
        "   - Classify them into 'Young/Mature Male/Female' using nested conditional statements.\n"
      ],
      "metadata": {
        "id": "0p0RmJMKDpdG"
      }
    },
    {
      "cell_type": "code",
      "source": [
        "#Ex4\n",
        "age = int(input(\"How old are you? \"))\n",
        "gender = int(input(\"What is your gender? \"))\n",
        "if age < 30:\n",
        "    if gender.lower() == \"Female\":\n",
        "        print(\"Young female.\")\n",
        "    else:\n",
        "        print(\"Young male.\")\n",
        "else:\n",
        "    if gender.lower() == \"female\":\n",
        "        print(\"Mature female.\")\n",
        "    else:\n",
        "        print(\"Mature male.\")"
      ],
      "metadata": {
        "id": "QSi5-aToDrnK"
      },
      "execution_count": null,
      "outputs": []
    },
    {
      "cell_type": "markdown",
      "source": [
        "\n",
        "5. **Weekend Activity Planner:**\n",
        "   - Ask the user if it's a weekend and if the weather is good.\n",
        "   - Provide activity suggestions based on their answers:\n",
        "     - Weekend and good weather: \"Go for a picnic!\",\n",
        "     - Weekend and bad weather: \"Maybe watch a movie at home?\",\n",
        "     - Weekday and good weather: \"Don't forget your sunglasses on your way to work!\",\n",
        "     - Weekday and bad weather: \"Take an umbrella today.\""
      ],
      "metadata": {
        "id": "tyG7h84BDsrX"
      }
    },
    {
      "cell_type": "code",
      "source": [
        "#Ex5\n",
        "day = str(input(\"What is the day today? \"))\n",
        "weather = str(input(\"Is there weather good today? \"))\n",
        "if day.lower() == \"monday\" or \"tuesday\" or \"wednesday\" or \"thursday\" or \"friday\":\n",
        "  if weather.lower() == \"yes\":\n",
        "    print(\"Don't forget your sunglasses on your way to work!\")\n",
        "  else:\n",
        "    print(\"Take an umbrella today!\")\n",
        "else:\n",
        "  if weather.lower() == \"yes\":\n",
        "    print(\"Go for a picnic\")\n",
        "  else:\n",
        "    print(\"Maybe watch a movie at home?\")"
      ],
      "metadata": {
        "id": "7q-ze3tCDtgQ",
        "outputId": "2bf37445-f2f6-4fbe-99da-942fca107219",
        "colab": {
          "base_uri": "https://localhost:8080/"
        }
      },
      "execution_count": 16,
      "outputs": [
        {
          "output_type": "stream",
          "name": "stdout",
          "text": [
            "What is the day today? tuesdaY\n",
            "Is there weather good today? yes\n",
            "Don't forget your sunglasses on your way to work!\n"
          ]
        }
      ]
    }
  ]
}